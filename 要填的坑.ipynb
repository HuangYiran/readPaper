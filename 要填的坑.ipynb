{
 "cells": [
  {
   "cell_type": "markdown",
   "metadata": {},
   "source": [
    "## 一\n",
    "- protein secondary structure predicton \n",
    "- sequence Modeling via Segmentations\n",
    "- Toward neural Phrase-based machine Translation\n"
   ]
  },
  {
   "cell_type": "markdown",
   "metadata": {
    "collapsed": true
   },
   "source": [
    "## 二\n",
    "- 前后向计算"
   ]
  },
  {
   "cell_type": "markdown",
   "metadata": {},
   "source": [
    "## 三\n",
    "The approach of learning embeddings has since been extended for example to:\n",
    "- items in a relational database(Barkan and Koenigstein, 2016))\n",
    "- sentence and documents(Le and Mikolov, 2014)\n",
    "- even users(Amir et al., 2017)"
   ]
  },
  {
   "cell_type": "markdown",
   "metadata": {},
   "source": [
    "## 近期要干的事\n",
    "- WMT上2017相关的paper可以看一下\n",
    "- Youtube上的几个视频，可以把他们看完\n",
    "- PyTorch练手\n",
    "- Stanford课程复习\n",
    "- 试着运行一下OpenMT\n",
    "- 可以试着先加入代码看看啊，至少得知道该怎么弄把"
   ]
  },
  {
   "cell_type": "markdown",
   "metadata": {
    "collapsed": true
   },
   "source": [
    "## 想一下\n",
    "- 做evaluation的时候，把Reference translation放进MT网络中是否具有优势？？？？"
   ]
  },
  {
   "cell_type": "code",
   "execution_count": null,
   "metadata": {
    "collapsed": true
   },
   "outputs": [],
   "source": []
  }
 ],
 "metadata": {
  "kernelspec": {
   "display_name": "Python2-tf",
   "language": "python",
   "name": "python2"
  },
  "language_info": {
   "codemirror_mode": {
    "name": "ipython",
    "version": 2
   },
   "file_extension": ".py",
   "mimetype": "text/x-python",
   "name": "python",
   "nbconvert_exporter": "python",
   "pygments_lexer": "ipython2",
   "version": "2.7.13"
  }
 },
 "nbformat": 4,
 "nbformat_minor": 2
}
