{
 "cells": [
  {
   "cell_type": "markdown",
   "metadata": {},
   "source": [
    "本文内容基本来自于dream_catcher_10的博客"
   ]
  },
  {
   "cell_type": "markdown",
   "metadata": {},
   "source": [
    "CTC模型接在RNN网络的最后一层用于序列学习所用。对于一个长度为T的序列来说，每个样本点t在RNN网络的最后一层都会输出一个softmax向量，表示预测概率；接上CTC模型之后，就可以正确预测出序列的标签。(存疑)\n",
    "- 假设一段长为T的序列中每个时间点的Label可能是L个不同给的label中的一个，那么这段序列的label总共有$L^T$种可能。\n",
    "- 在CTC模型中，一般把L个label扩展成L+1中，多加一个空白符的label。\n",
    "- 我们把$L^T$中，每种可能称为一条PATH, 用$\\pi$表示。\n",
    "- 当相邻两个时间节点的label相同时，我们只计算其中一个，也就是说存在多条path，表达相同的序列。如caaaat，cat表达的是相同的序列cat。因此：$p(I|x)=\\sum_{\\pi \\in \\beta^{-1}(I)}p(\\pi|x)$\n",
    "- 条件概率的计算（前后向计算）：$p(I|x)=\\sum_{s=1}^{|s'|}\\alpha(s,t)\\beta(s,t)$\n",
    "- loss = $-\\sum_{(x,z)\\in S}ln\\ p (z|x)$"
   ]
  },
  {
   "cell_type": "markdown",
   "metadata": {
    "collapsed": true
   },
   "source": [
    "？？？针对合并和删除，这个 模型是怎么训练的呢？？？这个还真的应该去看一下paper才知道。"
   ]
  },
  {
   "cell_type": "code",
   "execution_count": null,
   "metadata": {
    "collapsed": true
   },
   "outputs": [],
   "source": []
  }
 ],
 "metadata": {
  "kernelspec": {
   "display_name": "Python2-tf",
   "language": "python",
   "name": "python2"
  },
  "language_info": {
   "codemirror_mode": {
    "name": "ipython",
    "version": 2
   },
   "file_extension": ".py",
   "mimetype": "text/x-python",
   "name": "python",
   "nbconvert_exporter": "python",
   "pygments_lexer": "ipython2",
   "version": "2.7.13"
  }
 },
 "nbformat": 4,
 "nbformat_minor": 2
}
