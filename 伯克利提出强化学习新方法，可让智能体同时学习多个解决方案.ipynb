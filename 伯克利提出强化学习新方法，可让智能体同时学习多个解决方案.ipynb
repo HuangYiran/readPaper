{
 "cells": [
  {
   "cell_type": "markdown",
   "metadata": {},
   "source": [
    "本文主要内容来自:\n",
    "- https://www.jiqizhixin.com/articles/2017-10-14-7\n"
   ]
  },
  {
   "cell_type": "markdown",
   "metadata": {},
   "source": [
    "## 背景\n",
    "强化学习可以版主智能体自动找到任务的解决策略，但常规的强化学习方法可能对环境的变化不够稳健。标准深度强化学习的目标是掌握给定任务的一种解决方法，通常会选择第一种看起来有效的方法。在仅找到一种方法的情况下，如果环境发生变化，可能导致该方法不可行，而使得智能体必须重新训练。"
   ]
  },
  {
   "cell_type": "markdown",
   "metadata": {},
   "source": [
    "## 最大熵策略及其能量形式\n"
   ]
  }
 ],
 "metadata": {
  "kernelspec": {
   "display_name": "Python 3",
   "language": "python",
   "name": "python3"
  },
  "language_info": {
   "codemirror_mode": {
    "name": "ipython",
    "version": 3
   },
   "file_extension": ".py",
   "mimetype": "text/x-python",
   "name": "python",
   "nbconvert_exporter": "python",
   "pygments_lexer": "ipython3",
   "version": "3.6.1"
  }
 },
 "nbformat": 4,
 "nbformat_minor": 2
}
