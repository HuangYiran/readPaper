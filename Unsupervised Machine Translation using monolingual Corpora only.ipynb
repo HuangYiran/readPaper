{
 "cells": [
  {
   "cell_type": "markdown",
   "metadata": {},
   "source": [
    "主要思想如下："
   ]
  },
  {
   "cell_type": "markdown",
   "metadata": {},
   "source": [
    "![Unsupervised NMT using monoligual Corpora only](https://raw.githubusercontent.com/HuangYiran/readPaper/master/fotos/unsupervised_mono1.png)"
   ]
  },
  {
   "cell_type": "markdown",
   "metadata": {},
   "source": [
    "上图展示了autoencoding和translation之间的关系。下面看一下，我们的主要框架："
   ]
  },
  {
   "cell_type": "markdown",
   "metadata": {},
   "source": [
    "![unsupervised NMT using monolingual corpora only](https://raw.githubusercontent.com/HuangYiran/readPaper/master/fotos/unsupervised_mono2.png)"
   ]
  },
  {
   "cell_type": "markdown",
   "metadata": {},
   "source": [
    "为了能够实现这种交叉翻译，我们需要使得$z_{src}和z_{tgt}$近可能不依赖与其输入语言。为了做到这一点我们使用了GAN的方法。<br>\n",
    "整个过程的描述如下:"
   ]
  },
  {
   "cell_type": "markdown",
   "metadata": {},
   "source": [
    "![Unsupersived NMT using monoligngual Corpora only](https://raw.githubusercontent.com/HuangYiran/readPaper/master/fotos/unsupervised_mono3.png)"
   ]
  },
  {
   "cell_type": "code",
   "execution_count": null,
   "metadata": {
    "collapsed": true
   },
   "outputs": [],
   "source": []
  }
 ],
 "metadata": {
  "kernelspec": {
   "display_name": "Py27",
   "language": "python",
   "name": "python2"
  },
  "language_info": {
   "codemirror_mode": {
    "name": "ipython",
    "version": 2
   },
   "file_extension": ".py",
   "mimetype": "text/x-python",
   "name": "python",
   "nbconvert_exporter": "python",
   "pygments_lexer": "ipython2",
   "version": "2.7.13"
  }
 },
 "nbformat": 4,
 "nbformat_minor": 2
}
