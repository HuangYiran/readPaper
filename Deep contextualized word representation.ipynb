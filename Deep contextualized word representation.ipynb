{
 "cells": [
  {
   "cell_type": "markdown",
   "metadata": {},
   "source": [
    "## 前言"
   ]
  },
  {
   "cell_type": "markdown",
   "metadata": {},
   "source": [
    "这种word embedding的方法同时对一下两个方面进行建模：\n",
    "- 单词使用的复杂特征，包括词法和语法两个方面\n",
    "- 这些单词使用在不同的语义环境中的变化\n",
    "\n",
    "我们的词向量是通过由一个深度双向语言模型内部状态经过一定的方法转换后得到的。\n",
    "通过实验，我们证实了这个词向量可以很轻易的在现有的语言模型中时候，并为了结果带来显著的提升。"
   ]
  },
  {
   "cell_type": "markdown",
   "metadata": {},
   "source": [
    "## ELMo"
   ]
  },
  {
   "cell_type": "markdown",
   "metadata": {},
   "source": [
    "给定一个token，基于L层的BiLM，我们可以得到2*L+1个向量表达：<br>\n",
    "<center>$R_k = \\{X_k^{LM}, \\overrightarrow{h_{k,j}^{LM}}, \\overleftarrow{h_{k,j}^{LM}}|j = 1,...,L  \\}=\\{h_{k,j}^{LM}|j= 0,...,L \\}$</center>\n",
    "为了和下游任务进行衔接，我们一般会把上述针对每个单词所有表达用下面的方法进行整合：\n",
    "<center>$ELMo_k^{task} = E(R_k; \\Theta^{task})=\\gamma^{task}\\sum_{j=0}^{L}s_j^{task}h_{k,j}^{LM}$</center>\n",
    "其中s是softmax规范后的权重，$\\gamma$是scala因子"
   ]
  },
  {
   "cell_type": "markdown",
   "metadata": {},
   "source": [
    "## 使用"
   ]
  },
  {
   "cell_type": "markdown",
   "metadata": {},
   "source": [
    "ELMo的使用很方便，只需要把LM的参数冻结，然后把ELMo连接在特定任务的上游就行了。"
   ]
  },
  {
   "cell_type": "code",
   "execution_count": null,
   "metadata": {
    "collapsed": true
   },
   "outputs": [],
   "source": []
  }
 ],
 "metadata": {
  "kernelspec": {
   "display_name": "data_mining",
   "language": "python",
   "name": "data_mining"
  },
  "language_info": {
   "codemirror_mode": {
    "name": "ipython",
    "version": 3
   },
   "file_extension": ".py",
   "mimetype": "text/x-python",
   "name": "python",
   "nbconvert_exporter": "python",
   "pygments_lexer": "ipython3",
   "version": "3.6.5"
  }
 },
 "nbformat": 4,
 "nbformat_minor": 2
}
