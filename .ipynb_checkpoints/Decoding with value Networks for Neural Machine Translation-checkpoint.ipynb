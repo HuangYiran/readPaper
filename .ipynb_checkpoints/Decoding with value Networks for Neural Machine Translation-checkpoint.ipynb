{
 "cells": [
  {
   "cell_type": "markdown",
   "metadata": {},
   "source": [
    "本文内容主要来自：\n",
    "- https://www.jiqizhixin.com/articles/2017-11-22-7"
   ]
  },
  {
   "cell_type": "markdown",
   "metadata": {},
   "source": [
    "束搜索（beam search）是一种启发式搜索算法，会以从左向右的形式保留得分最高的部分序列扩展。特别是，它保存了一群候选的部分序列。在在每个时间步上，该算法将都会通过添加新词的方法扩展每一个候选部分语句，然后保留由 NMT 模型评分最高的新候选语句。当达到最大解码深度或者所有的语句都完全生成的时候（即所有的语句都包含 EOS 符号后缀的时候），算法就会终止。<br>\n",
    "虽然 NMT 结合束搜索是很成功的，但也存在几个明显的问题，已经被研究过的包括曝光偏差（exposure bias）、损失评估失配（loss-evaluation mismatch）和标签偏差（label bias）。然而我们观察到，其中仍然有一个很重要的问题被广泛忽视，即短视偏差（myopic bias）。<br>\n",
    "为了解决短视偏差，对每一个词 w 和每一个候选语句 y_<t，我们设计了一个预测模型以在把 w 添加到 y_$<$t 的时候，评估长期奖励。这个过程会跟随当前使用的 NMT 模型，直到解码完成。然后我们可以在每个解码步中应用这个模型输出的预测分数帮助寻找更好的 w，以提升长句翻译性能。这种预测长期奖励的模型，恰好和强化学习中的价值函数的概念相同。<br>\n",
    "在本研究中我们开发了一个基于神经网络的预测模型，即为 NMT 设计的价值网络。该价值网络将源语句与任何部分序列作为输入，并输出预测值以估计 NMT 模型生成这一部分序列的期望总回报（例如 BLEU 分值）。在所有解码的步骤中，我们不仅基于该部分序列的条件概率选择最优的候选译文，同时还基于价值网络估计翻译效果的长期回报。<br>\n",
    "其次，我们设计了一种新颖的价值网络。在 NMT 编码器-解码器层的顶部，我们为价值网络开发了另外两个模块，即一个语义匹配模块和一个上下文覆盖（context-coverage）模块。语义匹配模块旨在估计源语句与目标语句之间的相似度，该模块直接有助于翻译质量的提升。不过我们经常观察到，随着注意力机制使用更多的上下文信息，模型能生成更好的翻译 [14, 15]。因此我们构建了一个上下文覆盖模块来度量编码器-解码器层中的上下文覆盖范围。通过这两个模块的输出，模型最终的预测将由全连接层完成。<br>\n",
    "value network 的架构\n",
    "![value NN](https://raw.githubusercontent.com/HuangYiran/readPaper/master/fotos/value_NN.png)\n",
    "value network 的训练\n",
    "![value NN](https://raw.githubusercontent.com/HuangYiran/readPaper/master/fotos/value_NN2.png)\n",
    "value network 的应用：（beam search中加权求和）\n",
    "![value NN](https://raw.githubusercontent.com/HuangYiran/readPaper/master/fotos/value_NN3.png)"
   ]
  },
  {
   "cell_type": "code",
   "execution_count": null,
   "metadata": {
    "collapsed": true
   },
   "outputs": [],
   "source": []
  }
 ],
 "metadata": {
  "kernelspec": {
   "display_name": "Py27",
   "language": "python",
   "name": "python2"
  },
  "language_info": {
   "codemirror_mode": {
    "name": "ipython",
    "version": 2
   },
   "file_extension": ".py",
   "mimetype": "text/x-python",
   "name": "python",
   "nbconvert_exporter": "python",
   "pygments_lexer": "ipython2",
   "version": "2.7.13"
  }
 },
 "nbformat": 4,
 "nbformat_minor": 2
}
