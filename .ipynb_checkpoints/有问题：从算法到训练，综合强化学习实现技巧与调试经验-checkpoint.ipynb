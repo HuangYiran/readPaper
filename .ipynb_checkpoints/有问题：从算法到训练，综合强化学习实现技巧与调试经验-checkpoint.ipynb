{
 "cells": [
  {
   "cell_type": "markdown",
   "metadata": {},
   "source": [
    "本文大部分内容来自机器之心"
   ]
  },
  {
   "cell_type": "markdown",
   "metadata": {},
   "source": [
    "## 调试新算法的技巧\n",
    "#### 通过低维状态空间环境的使用简化问题\n",
    "- John建议使用钟摆问题，因为它具有2维状态空间（摆角和速度）？？？？\n",
    "- 便于得到值函数的形式和算法应处的状态，以及他们随时间如何演化\n",
    "- 直观地了解为什么某些参数不起作用(也可以说，价值函数是否足够平滑等)\n",
    "\n",
    "#### 为了测试你的算法是否合理，你要构造一个适用于该算法的问题\n",
    "- 例如：对于分层强化学习，你要构建一个它应该会学习的明显的分层结构的问题。\n",
    "- 该问题可以简单测试出算法是否合理\n",
    "- 警告：不要使用算方法过度拟合这个玩具问题（你要知道玩具问题不具有实际意义）\n",
    "\n",
    "#### 熟悉你知道的某些环境\n",
    "- 随时间的推移，你将会知道训练应该花费多少时间\n",
    "- 知晓奖励信号的演化过程等\n",
    "- 允许你设置一个基准，以了解你过去的实验的效果\n",
    "- John使用弹跳机器人，通过这个机器人他知道应该采取多快的学习速度，并且可以很容易地发现奇怪的行为\n",
    "\n",
    "## 调试新任务的技巧\n",
    "#### 简化任务\n",
    "- 开始简化\n",
    "- 方法 1： 简化特征空间：例如你正在使用图像（巨大的维度空间）学习， 那么可能先要手动处理图像特征。示例：如果你觉得你的函数正在尝试近似得到某个参数的位置，请使用x, y坐标位置作为步骤1的特征。一旦前一步开始工作，将使得问题更加复杂，直到你解决所有问题。\n",
    "- 方法2：简化建立函数： 这样你就可以快速的得到反馈，从而直到算法是否正确。例如：当机器人集中目标时有奖励(+1)。这通常很难学习，因为在开始和建立函数之间的不确定因素太多了。将问题重新定位为目标的距离，这将增加学习，并带来更快的迭代速度\n",
    "\n",
    "## 在强化学习中构建问题的技巧\n",
    "也许现在不清楚这些特征是什么，奖励是什么，甚至它是否可行。\n",
    "#### 第一步：可实话处理这个问题的随机策略\n",
    "- 看看它的效果\n",
    "- 如果随机策略奏效过，那么很可能强化学习会得到预期的效果\n",
    "- 如果随机策略从未奏效过，那么强化学习基本也不用考虑了\n",
    "\n",
    "#### 确保评论有用\n",
    "- 通过给个体同样的评论来测试你能否控制这个系统。示例：自己查看预处理的图像，以确保没有删除必要的细节或某种程度上阻碍了算法。\n",
    "\n",
    "#### 确保合理地缩放特征\n",
    "- 经验法则： 评论：取特征均值为0，标准差为1. 奖励：如果你能控制它，就把它缩放到一个合理的值。\n",
    "- 观察所有的评论和奖励，确保没有过度的异常值\n",
    "\n",
    "#### 每当你碰到一个新问题，都要找好出发点\n",
    "\n",
    "## 重现论文代码\n",
    "#### 使用多于你当前所需的样本\n",
    "#### 采用正确的策略，但这并非绝对的\n",
    "- 循序渐进，一点一点的改进算法\n",
    "- 然后微调超参数使其具有范湖能力\n",
    "- 使用更大的批量batch可以使算法作用于所有数据\n",
    "    - 如果批量太小，噪声会掩盖信号\n",
    "    - 如果： TRPO\n",
    "\n",
    "## 训练指导手册\n",
    "全面检测你的训练是否有效\n",
    "#### 查看每个超参数的灵敏度\n",
    "- 如果算法过于明感，那么就是算法不过robust，我们不应该满足与此\n",
    "- 有时一个莫名的变动会使算法奏效，但这并不具有范化能力。\n",
    "#### 检测优化过程中的指标是有益的。\n",
    "- 变化值\n",
    "- 观察价值函数是否精准\n",
    "    - 预测是否有效？\n",
    "    - 预测的返回值正常吗？\n",
    "    - 更新范围有多大？\n",
    "- 来自深度网络的标准诊断\n",
    "\n",
    "#### 有一个连续的基准测试系统\n",
    "- 需要惩罚\n",
    "- 比较你尝试过的偶有问题的性能\n",
    "    - 有时它对于一个问题是有效，但是对于别的问题就是错乱的。容易过拟合某一个问题\n",
    "\n",
    "#### 误以为你的算法有效，但实际上看到的是随机噪音\n",
    "\n",
    "#### 尝试不同的随机种子\n",
    "- 多次运行并取平均值\n",
    "- 在多个种子上运行多个任务\n",
    "    - 否则，算法可能会过拟合\n",
    "\n",
    "#### 算法大可不必修改\n",
    "- 大多数技巧实际上是以欧中方式规范化特征或改进你的优化过程\n",
    "- 很多技巧也有同样的效果 所以你可以删除其中的一些，简化你的算法\n",
    "\n",
    "#### 简化你的算法\n",
    "- 范化能力更佳\n",
    "\n",
    "#### 实验过程自动化\n",
    "- 不要化一整台的时间看你的代码的输出结果\n",
    "- 在云服务上进行实验分析结果\n",
    "- 使用框架跟踪实验和结果\n",
    "\n",
    "## 通用的训练策略\n",
    "#### 白化或标准化数据（一开始就对所有数据进行处理）\n"
   ]
  },
  {
   "cell_type": "markdown",
   "metadata": {},
   "source": [
    "# 不理解的问题\n",
    "1. 调试新算法的技巧中的第一项还有就是最后一项的弹跳机器人\n",
    "2. 调试新任务的技巧中的简化任务中方法1的例子没有懂\n",
    "3. 为什么说如果随机策略奏效过，那么很可能强化学习会得到预期的效果\n",
    "4. 确保评论有用这一项只有示例能看懂\n",
    "5. 什么是来自深度网络的标准诊断"
   ]
  },
  {
   "cell_type": "markdown",
   "metadata": {},
   "source": [
    "# 部分补充\n",
    "### whitening transformation\n",
    "A whitening transformation or sphering transformation is a linear transformation that transforms a vector of random variables with a known covariance matrix into a set of new variables whose covariance is the identity matrix, meaning that they are uncorrelated and each have variance 1.[1] The transformation is called \"whitening\" because it changes the input vector into a white noise vector.\n",
    "\n",
    "Several other transformations are closely related to whitening: 1) the decorrelation transform removes only the correlations but leaves variances intact, 2) the standardization transform sets variances to 1 but leaves correlations intact, and 3) a coloring transformation transforms a vector of white random variables into a random vector with a specified covariance matrix\n",
    "这个链接介绍了两种白化方法，可以看一下https://my.oschina.net/findbill/blog/543485"
   ]
  }
 ],
 "metadata": {
  "kernelspec": {
   "display_name": "Python2-tf",
   "language": "python",
   "name": "python2"
  },
  "language_info": {
   "codemirror_mode": {
    "name": "ipython",
    "version": 2
   },
   "file_extension": ".py",
   "mimetype": "text/x-python",
   "name": "python",
   "nbconvert_exporter": "python",
   "pygments_lexer": "ipython2",
   "version": "2.7.13"
  }
 },
 "nbformat": 4,
 "nbformat_minor": 2
}
