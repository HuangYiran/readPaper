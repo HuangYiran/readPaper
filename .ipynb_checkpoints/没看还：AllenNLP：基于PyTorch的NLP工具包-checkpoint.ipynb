{
 "cells": [
  {
   "cell_type": "markdown",
   "metadata": {},
   "source": [
    "本文内容主要来自机器之心"
   ]
  },
  {
   "cell_type": "markdown",
   "metadata": {},
   "source": [
    "https://github.com/allenai/allennlp"
   ]
  },
  {
   "cell_type": "markdown",
   "metadata": {
    "collapsed": true
   },
   "source": [
    "## AllenNLP 简介\n",
    "AllenNLP 构建于 PyTorch 之上，它的设计遵循以下原则：<bt>\n",
    "- 超模块化和轻量化。你可以使用自己喜欢的组件与 PyTorch 无缝连接。\n",
    "- 经过广泛测试，易于扩展。测试覆盖率超过 90%，示例模型为你提供了很好的模板。\n",
    "- 真正的填充和覆盖，让你可以毫无痛苦地轻松实现正确的模型。\n",
    "- 易于实验。可以通过符合 json 规范的全面记录重现实验过程。\n",
    "\n",
    "AllenNLP 包含的高质量模型有 Semantic Role Labelling、Question and Answering (BiDAF)、Entailment（可分注意力）等等。<br>\n",
    "AllenNLP 主要由 Allen 人工智能实验室构建和维护，该项目也与华盛顿大学等机构共同合作。"
   ]
  },
  {
   "cell_type": "code",
   "execution_count": null,
   "metadata": {
    "collapsed": true
   },
   "outputs": [],
   "source": []
  }
 ],
 "metadata": {
  "kernelspec": {
   "display_name": "Python2-tf",
   "language": "python",
   "name": "python2"
  },
  "language_info": {
   "codemirror_mode": {
    "name": "ipython",
    "version": 2
   },
   "file_extension": ".py",
   "mimetype": "text/x-python",
   "name": "python",
   "nbconvert_exporter": "python",
   "pygments_lexer": "ipython2",
   "version": "2.7.13"
  }
 },
 "nbformat": 4,
 "nbformat_minor": 2
}
