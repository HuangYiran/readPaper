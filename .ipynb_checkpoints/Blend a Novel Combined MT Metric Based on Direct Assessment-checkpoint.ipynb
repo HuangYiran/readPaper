{
 "cells": [
  {
   "cell_type": "markdown",
   "metadata": {},
   "source": [
    "## 简介\n",
    "Blend是一个combined metric（就是由多个metric组合而成的意思），他使用direct assessment(DA)训练数据。本文还通过分析blend中使用的matric的作用效果，在质量和效率中寻得一个平衡。<br>\n",
    "相较于DPMFcomb，Blend做了两点改动：<br>\n",
    "- 使用DA Evaluation\n",
    "- 深入探讨其中各个metric的效能，从而在质量和效率中找到平衡"
   ]
  },
  {
   "cell_type": "markdown",
   "metadata": {},
   "source": [
    "## 相关知识大略\n",
    "不同的AMTE(Automatic machine translation evaluation)关注的地方（测量similarity的方法）不一样，常见的有以下几种：\n",
    "- 基于词汇的(lexical based metrics): BLEU(Papineni et al. 2002) and NIST(Doddington, 2002)count n-gram co-occurrence.\n",
    "- Meteor(Denkowski and Lavie, 2014) and GTM(Melamed et al. 2003) catch different kinds of matches具体不知道，有兴趣可以找出来看一下？？？\n",
    "- ROUGE(Lin and Och, 2004) capture common subsequences\n",
    "- WER(Niessen et al., 2000), PER(Tillmann et al., 1997) and TER(Snover et al., 2009) compute the post-editing distance between the hypothesis and the reference translation(就是levenstein距离)\n",
    "- Syntactic based metrics主要使用shallow syntactic structures(Chan and Ng, 2008; Zhu et al., 2010)和依赖树结构和连续树结构（dependency tree structurer and constituent tree structures）(Owczarzak et al., 2007; Liu and Gilden, 2005).\n",
    "- 基于语义的方法(Lo et al., 2012)\n",
    "- discourse similarity based metrics(Guzman et al., 2014)\n",
    "- 一个结合多个metric的metric：DPMFcomb(Yu et al., 2015a)"
   ]
  },
  {
   "cell_type": "code",
   "execution_count": null,
   "metadata": {
    "collapsed": true
   },
   "outputs": [],
   "source": []
  }
 ],
 "metadata": {
  "kernelspec": {
   "display_name": "Python2-tf",
   "language": "python",
   "name": "python2"
  },
  "language_info": {
   "codemirror_mode": {
    "name": "ipython",
    "version": 2
   },
   "file_extension": ".py",
   "mimetype": "text/x-python",
   "name": "python",
   "nbconvert_exporter": "python",
   "pygments_lexer": "ipython2",
   "version": "2.7.13"
  }
 },
 "nbformat": 4,
 "nbformat_minor": 2
}
