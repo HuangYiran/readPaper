{
 "cells": [
  {
   "cell_type": "markdown",
   "metadata": {},
   "source": [
    "本文主要内容主要来自：\n",
    "- https://www.jiqizhixin.com/articles/2017-11-22-6"
   ]
  },
  {
   "cell_type": "markdown",
   "metadata": {},
   "source": [
    "## 简介\n",
    "一般的神经训练方法存在以下缺点：\n",
    "- 大部分基于反向传播的方法训练的是网络权重，而非架构。它们只是利用神经网络权重空间中的梯度信息，而整个训练过程中的神经网络架构是固定的。因此，这样的方法并不能带来更好的网络架构。\n",
    "- 得到的大部分神经网络的参数都过量了。\n",
    "\n",
    "为了解决这些问题，普林斯顿研究员在这篇论文中提出了中全新的神经网络合成工具 NeST，既训练神经网络权重又训练架构。受人脑学习机制的启发，NeST 先从一个种子神经网络架构（出生点）开始合成。它能让神经网络基于梯度信息（婴儿大脑）生成连接和神经元，以便于神经网络能快速适应手头问题。然后，基于量级信息（成人大脑），它修剪掉不重要的连接和神经元从而避免冗余。这使得 NeST 能够生成紧凑且准确的神经网络。\n",
    "![NeST1](https://raw.githubusercontent.com/HuangYiran/readPaper/master/fotos/NeST1.png)\n",
    "![NeST2](https://raw.githubusercontent.com/HuangYiran/readPaper/master/fotos/NeST2.png)"
   ]
  },
  {
   "cell_type": "code",
   "execution_count": null,
   "metadata": {
    "collapsed": true
   },
   "outputs": [],
   "source": []
  }
 ],
 "metadata": {
  "kernelspec": {
   "display_name": "Py27",
   "language": "python",
   "name": "python2"
  },
  "language_info": {
   "codemirror_mode": {
    "name": "ipython",
    "version": 2
   },
   "file_extension": ".py",
   "mimetype": "text/x-python",
   "name": "python",
   "nbconvert_exporter": "python",
   "pygments_lexer": "ipython2",
   "version": "2.7.13"
  }
 },
 "nbformat": 4,
 "nbformat_minor": 2
}
