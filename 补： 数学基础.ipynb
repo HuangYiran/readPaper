{
 "cells": [
  {
   "cell_type": "markdown",
   "metadata": {},
   "source": [
    "## 奇异值分解\n",
    "https://zh.wikipedia.org/wiki/奇异值分解\n",
    "## 共轭转置\n",
    "https://zh.wikipedia.org/wiki/共轭转置\n",
    "## 特征值与特征向量\n",
    "https://zh.wikipedia.org/wiki/特征值和特征向量<br>\n",
    "最简单的例子是恒等变换I。由于对所有的非零向量，所以所有的非零向量都是恒等变换I的特征向量，对应着特征值1。恒等变换的特征空间只有一个，就是整个空间，对应着特征值1。类似地，数乘变换$\\lambda \\mathbf{I}$的特征向量也是所有非零向量，因为按照定义，对所有的非零向量<br>\n",
    "如果一个变换可以写成对角矩阵，那么它的特征值就是它对角线上的元素，而特征向量就是相应的基<br>\n",
    "对于更复杂的矩阵，特征向量和特征值就不是显然的了。\n",
    "## 正规矩阵\n",
    "https://zh.wikipedia.org/wiki/正规矩阵\n",
    "## 酉矩阵\n",
    "https://zh.wikipedia.org/wiki/酉矩阵\n",
    "若酉矩阵的元素都是实数，其即为正交矩阵。与正交矩阵G不会改变两个实向量的内积类似，酉矩阵U不改变两个复向量的内积<br>\n",
    "酉矩阵的特征值都是模为1的复数，即分布在复平面的单位圆上，因此酉矩阵行列式的值为±1。\n",
    "## 正交\n",
    "https://zh.wikipedia.org/wiki/正交"
   ]
  },
  {
   "cell_type": "code",
   "execution_count": null,
   "metadata": {
    "collapsed": true
   },
   "outputs": [],
   "source": []
  }
 ],
 "metadata": {
  "kernelspec": {
   "display_name": "Python2-tf",
   "language": "python",
   "name": "python2"
  },
  "language_info": {
   "codemirror_mode": {
    "name": "ipython",
    "version": 2
   },
   "file_extension": ".py",
   "mimetype": "text/x-python",
   "name": "python",
   "nbconvert_exporter": "python",
   "pygments_lexer": "ipython2",
   "version": "2.7.13"
  }
 },
 "nbformat": 4,
 "nbformat_minor": 2
}
